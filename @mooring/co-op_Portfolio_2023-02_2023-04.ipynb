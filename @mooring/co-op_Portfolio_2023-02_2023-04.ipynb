{
 "cells": [
  {
   "cell_type": "markdown",
   "id": "a8c044e7",
   "metadata": {},
   "source": [
    "Unlike most languages, functions in Octave may return multiple values. For example, the following statement\n",
    "\n",
    "    [u, s, v] = svd (a)\n",
    "\n",
    "computes the singular value decomposition of the matrix a and assigns the three result matrices to u, s, and v. "
   ]
  },
  {
   "cell_type": "code",
   "execution_count": null,
   "id": "57e212c9",
   "metadata": {},
   "outputs": [],
   "source": []
  }
 ],
 "metadata": {
  "kernelspec": {
   "display_name": "Python 3 (ipykernel)",
   "language": "python",
   "name": "python3"
  },
  "language_info": {
   "codemirror_mode": {
    "name": "ipython",
    "version": 3
   },
   "file_extension": ".py",
   "mimetype": "text/x-python",
   "name": "python",
   "nbconvert_exporter": "python",
   "pygments_lexer": "ipython3",
   "version": "3.10.9"
  }
 },
 "nbformat": 4,
 "nbformat_minor": 5
}
